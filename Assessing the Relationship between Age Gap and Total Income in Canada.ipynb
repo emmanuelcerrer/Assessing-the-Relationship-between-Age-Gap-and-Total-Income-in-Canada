{
 "cells": [
  {
   "cell_type": "code",
   "execution_count": 1,
   "id": "f2bdd03b-0fec-4ad9-9aef-e33d2b3fb672",
   "metadata": {},
   "outputs": [
    {
     "name": "stdout",
     "output_type": "stream",
     "text": [
      "Defaulting to user installation because normal site-packages is not writeable\n",
      "Requirement already satisfied: pandas in c:\\users\\emmanuel cerrer\\appdata\\local\\packages\\pythonsoftwarefoundation.python.3.13_qbz5n2kfra8p0\\localcache\\local-packages\\python313\\site-packages (2.2.3)\n",
      "Requirement already satisfied: scikit-learn in c:\\users\\emmanuel cerrer\\appdata\\local\\packages\\pythonsoftwarefoundation.python.3.13_qbz5n2kfra8p0\\localcache\\local-packages\\python313\\site-packages (1.6.1)\n",
      "Requirement already satisfied: matplotlib in c:\\users\\emmanuel cerrer\\appdata\\local\\packages\\pythonsoftwarefoundation.python.3.13_qbz5n2kfra8p0\\localcache\\local-packages\\python313\\site-packages (3.10.1)\n",
      "Requirement already satisfied: numpy>=1.26.0 in c:\\users\\emmanuel cerrer\\appdata\\local\\packages\\pythonsoftwarefoundation.python.3.13_qbz5n2kfra8p0\\localcache\\local-packages\\python313\\site-packages (from pandas) (2.2.4)\n",
      "Requirement already satisfied: python-dateutil>=2.8.2 in c:\\users\\emmanuel cerrer\\appdata\\local\\packages\\pythonsoftwarefoundation.python.3.13_qbz5n2kfra8p0\\localcache\\local-packages\\python313\\site-packages (from pandas) (2.9.0.post0)\n",
      "Requirement already satisfied: pytz>=2020.1 in c:\\users\\emmanuel cerrer\\appdata\\local\\packages\\pythonsoftwarefoundation.python.3.13_qbz5n2kfra8p0\\localcache\\local-packages\\python313\\site-packages (from pandas) (2025.2)\n",
      "Requirement already satisfied: tzdata>=2022.7 in c:\\users\\emmanuel cerrer\\appdata\\local\\packages\\pythonsoftwarefoundation.python.3.13_qbz5n2kfra8p0\\localcache\\local-packages\\python313\\site-packages (from pandas) (2025.2)\n",
      "Requirement already satisfied: scipy>=1.6.0 in c:\\users\\emmanuel cerrer\\appdata\\local\\packages\\pythonsoftwarefoundation.python.3.13_qbz5n2kfra8p0\\localcache\\local-packages\\python313\\site-packages (from scikit-learn) (1.15.2)\n",
      "Requirement already satisfied: joblib>=1.2.0 in c:\\users\\emmanuel cerrer\\appdata\\local\\packages\\pythonsoftwarefoundation.python.3.13_qbz5n2kfra8p0\\localcache\\local-packages\\python313\\site-packages (from scikit-learn) (1.4.2)\n",
      "Requirement already satisfied: threadpoolctl>=3.1.0 in c:\\users\\emmanuel cerrer\\appdata\\local\\packages\\pythonsoftwarefoundation.python.3.13_qbz5n2kfra8p0\\localcache\\local-packages\\python313\\site-packages (from scikit-learn) (3.6.0)\n",
      "Requirement already satisfied: contourpy>=1.0.1 in c:\\users\\emmanuel cerrer\\appdata\\local\\packages\\pythonsoftwarefoundation.python.3.13_qbz5n2kfra8p0\\localcache\\local-packages\\python313\\site-packages (from matplotlib) (1.3.1)\n",
      "Requirement already satisfied: cycler>=0.10 in c:\\users\\emmanuel cerrer\\appdata\\local\\packages\\pythonsoftwarefoundation.python.3.13_qbz5n2kfra8p0\\localcache\\local-packages\\python313\\site-packages (from matplotlib) (0.12.1)\n",
      "Requirement already satisfied: fonttools>=4.22.0 in c:\\users\\emmanuel cerrer\\appdata\\local\\packages\\pythonsoftwarefoundation.python.3.13_qbz5n2kfra8p0\\localcache\\local-packages\\python313\\site-packages (from matplotlib) (4.56.0)\n",
      "Requirement already satisfied: kiwisolver>=1.3.1 in c:\\users\\emmanuel cerrer\\appdata\\local\\packages\\pythonsoftwarefoundation.python.3.13_qbz5n2kfra8p0\\localcache\\local-packages\\python313\\site-packages (from matplotlib) (1.4.8)\n",
      "Requirement already satisfied: packaging>=20.0 in c:\\users\\emmanuel cerrer\\appdata\\local\\packages\\pythonsoftwarefoundation.python.3.13_qbz5n2kfra8p0\\localcache\\local-packages\\python313\\site-packages (from matplotlib) (24.2)\n",
      "Requirement already satisfied: pillow>=8 in c:\\users\\emmanuel cerrer\\appdata\\local\\packages\\pythonsoftwarefoundation.python.3.13_qbz5n2kfra8p0\\localcache\\local-packages\\python313\\site-packages (from matplotlib) (11.1.0)\n",
      "Requirement already satisfied: pyparsing>=2.3.1 in c:\\users\\emmanuel cerrer\\appdata\\local\\packages\\pythonsoftwarefoundation.python.3.13_qbz5n2kfra8p0\\localcache\\local-packages\\python313\\site-packages (from matplotlib) (3.2.3)\n",
      "Requirement already satisfied: six>=1.5 in c:\\users\\emmanuel cerrer\\appdata\\local\\packages\\pythonsoftwarefoundation.python.3.13_qbz5n2kfra8p0\\localcache\\local-packages\\python313\\site-packages (from python-dateutil>=2.8.2->pandas) (1.17.0)\n"
     ]
    },
    {
     "name": "stderr",
     "output_type": "stream",
     "text": [
      "\n",
      "[notice] A new release of pip is available: 24.3.1 -> 25.0.1\n",
      "[notice] To update, run: C:\\Users\\Emmanuel Cerrer\\AppData\\Local\\Microsoft\\WindowsApps\\PythonSoftwareFoundation.Python.3.13_qbz5n2kfra8p0\\python.exe -m pip install --upgrade pip\n"
     ]
    }
   ],
   "source": [
    "!pip install pandas scikit-learn matplotlib"
   ]
  },
  {
   "cell_type": "code",
   "execution_count": 2,
   "id": "c9724d4a-d148-4e8c-b685-31bc440650de",
   "metadata": {},
   "outputs": [],
   "source": [
    "import pandas as pd\n",
    "from sklearn.linear_model import LinearRegression\n",
    "import matplotlib.pyplot as plt"
   ]
  },
  {
   "cell_type": "code",
   "execution_count": 3,
   "id": "563a2476-f091-40f1-b31f-f8401705cf56",
   "metadata": {},
   "outputs": [],
   "source": [
    "df = pd.read_csv('Assessing the Relationship between Age Gap and Total Income in Canada/Assessing the Relationship between Age Gap and Total Income in Canada (Cleaned).csv')"
   ]
  },
  {
   "cell_type": "code",
   "execution_count": 4,
   "id": "3699146d-d24b-473d-88d0-ab6e80bfcaf6",
   "metadata": {},
   "outputs": [
    {
     "data": {
      "text/html": [
       "<div>\n",
       "<style scoped>\n",
       "    .dataframe tbody tr th:only-of-type {\n",
       "        vertical-align: middle;\n",
       "    }\n",
       "\n",
       "    .dataframe tbody tr th {\n",
       "        vertical-align: top;\n",
       "    }\n",
       "\n",
       "    .dataframe thead th {\n",
       "        text-align: right;\n",
       "    }\n",
       "</style>\n",
       "<table border=\"1\" class=\"dataframe\">\n",
       "  <thead>\n",
       "    <tr style=\"text-align: right;\">\n",
       "      <th></th>\n",
       "      <th>Total_income</th>\n",
       "      <th>Age_gap</th>\n",
       "    </tr>\n",
       "  </thead>\n",
       "  <tbody>\n",
       "    <tr>\n",
       "      <th>0</th>\n",
       "      <td>20275</td>\n",
       "      <td>15</td>\n",
       "    </tr>\n",
       "    <tr>\n",
       "      <th>1</th>\n",
       "      <td>110875</td>\n",
       "      <td>9</td>\n",
       "    </tr>\n",
       "    <tr>\n",
       "      <th>2</th>\n",
       "      <td>110875</td>\n",
       "      <td>9</td>\n",
       "    </tr>\n",
       "    <tr>\n",
       "      <th>3</th>\n",
       "      <td>110875</td>\n",
       "      <td>4</td>\n",
       "    </tr>\n",
       "    <tr>\n",
       "      <th>4</th>\n",
       "      <td>110875</td>\n",
       "      <td>3</td>\n",
       "    </tr>\n",
       "  </tbody>\n",
       "</table>\n",
       "</div>"
      ],
      "text/plain": [
       "   Total_income  Age_gap\n",
       "0         20275       15\n",
       "1        110875        9\n",
       "2        110875        9\n",
       "3        110875        4\n",
       "4        110875        3"
      ]
     },
     "execution_count": 4,
     "metadata": {},
     "output_type": "execute_result"
    }
   ],
   "source": [
    "df.head()  # Displays the first 5 rows of the DataFrame"
   ]
  },
  {
   "cell_type": "code",
   "execution_count": 5,
   "id": "e68976e9-ee10-4a14-9689-f289dbe03925",
   "metadata": {},
   "outputs": [
    {
     "name": "stdout",
     "output_type": "stream",
     "text": [
      "<class 'pandas.core.frame.DataFrame'>\n",
      "RangeIndex: 72643 entries, 0 to 72642\n",
      "Data columns (total 2 columns):\n",
      " #   Column        Non-Null Count  Dtype\n",
      "---  ------        --------------  -----\n",
      " 0   Total_income  72643 non-null  int64\n",
      " 1   Age_gap       72643 non-null  int64\n",
      "dtypes: int64(2)\n",
      "memory usage: 1.1 MB\n"
     ]
    }
   ],
   "source": [
    "df.info()"
   ]
  },
  {
   "cell_type": "code",
   "execution_count": 6,
   "id": "c2432fc3-79ea-4af2-a5d6-8389819f6356",
   "metadata": {},
   "outputs": [],
   "source": [
    "X = df[['Age_gap']]  # Independent variable (predictor)\n",
    "y = df['Total_income']  # Dependent variable (target)"
   ]
  },
  {
   "cell_type": "code",
   "execution_count": 7,
   "id": "768da6ab-fa60-4855-a30e-6a6d6ff159d6",
   "metadata": {},
   "outputs": [
    {
     "name": "stdout",
     "output_type": "stream",
     "text": [
      "Intercept: 138333.44399060725\n",
      "Coefficient: -3002.5710013824787\n"
     ]
    }
   ],
   "source": [
    "# Create a LinearRegression object\n",
    "model = LinearRegression()\n",
    "\n",
    "# Fit the model\n",
    "model.fit(X, y)\n",
    "\n",
    "# Get the model's parameters\n",
    "intercept = model.intercept_\n",
    "coefficient = model.coef_[0]\n",
    "\n",
    "print(f\"Intercept: {intercept}\")\n",
    "print(f\"Coefficient: {coefficient}\")"
   ]
  },
  {
   "cell_type": "code",
   "execution_count": 8,
   "id": "2a2bc058-4cc5-4081-a81a-a113f59457df",
   "metadata": {},
   "outputs": [
    {
     "name": "stdout",
     "output_type": "stream",
     "text": [
      "R-squared: 0.026097186399090977\n"
     ]
    }
   ],
   "source": [
    "r_squared = model.score(X, y)\n",
    "print(f\"R-squared: {r_squared}\")"
   ]
  },
  {
   "cell_type": "code",
   "execution_count": 9,
   "id": "3c1a5728-60c3-4c09-a469-e741a0bd3499",
   "metadata": {},
   "outputs": [
    {
     "data": {
      "image/png": "iVBORw0KGgoAAAANSUhEUgAAAjcAAAHHCAYAAABDUnkqAAAAOnRFWHRTb2Z0d2FyZQBNYXRwbG90bGliIHZlcnNpb24zLjEwLjEsIGh0dHBzOi8vbWF0cGxvdGxpYi5vcmcvc2/+5QAAAAlwSFlzAAAPYQAAD2EBqD+naQAAaJZJREFUeJzt3Qm8THX/B/Dvde1kX7NH2bKUpZCQLZUl7bKU6kllCUna66mEbEVpU3jSasnTLlFCZG3hKSEka3FtIZz/6/O7/3ObmTszd86958zvLJ/36zXGnPO7c5Y5y/f81hTDMAwhIiIi8olculeAiIiIyE4MboiIiMhXGNwQERGRrzC4ISIiIl9hcENERES+wuCGiIiIfIXBDREREfkKgxsiIiLyFQY3RERE5CsMbiimX3/9VVJSUuT111/XvSqUAzfddJNUrVpV92q4zqJFi9TxjXci8hcGNwGFgAUX9pUrV4pfPfroo2obzVeePHnUTX7gwIFy4MAB3asXSKG/R7xXIgHHU089JXPnznV8nYNwrnjBqVOn5Mwzz1S/xccffyxu8N1338nNN98s1apVk/z580vhwoWlYcOGcu+998rmzZt1r16g5da9AuReVapUkb/++ksFBV72wgsvqIvOkSNHZMGCBfLcc8/J6tWr5euvv5YgePnll+X06dPiBjNmzAj7PH36dJk/f36m6bVr104ouLn66qulW7dutq8nuc8XX3whO3fuVA8ob7zxhnTq1En7eXXHHXdIqVKl5MYbb5RatWrJyZMn5YcfflDH9YQJE9T1MzU1Vet6BhWDG4oJT0h4GnGzo0ePSsGCBeOmwQ0QFyC4/fbb5frrr5e3335bVqxYIU2bNk3SmooKME6cOJH0feqm4LRnz55hn7/55hsV3EROJ4r0n//8R84//3zp06eP3H///ephpVChQlrWZenSpSqwadGihXzwwQdyxhlnhM0fO3asPPnkk1rWjdKxWIos1blB/Q3kguzYsUM9MeP/pUuXlnvuuUdlG0fezPH0UrduXXVDL1u2rAou9u/fH5bu/fffl8svv1xlOefLl0+qV68u//73vzN9X+vWreXcc8+VVatWycUXX6yCGlzkrGrZsqV637RpU9j05cuXy6WXXipFixZV392qVStZsmRJpr9HkUnjxo3VNmFdX3zxxYwisFD43L9/f/WUiX2Abfvkk0/UPOy/vn37qn2C6Zg/derUTMtCLhPmYX2KFy+uljtz5syM+YcOHZK7775bPc3ie8qUKSPt27dXOVPx6tzgxjB06FCpVKmS+ruaNWvKM888I4ZhRN0GFP9g35vram5HqP/973+ybds2yalE1g3rhXTTpk3LKMrCdsLWrVvlzjvvVH9XoEABKVmypFxzzTXqeLaL1fNg4sSJUq9ePXXMIB2Os9BiLjzx45jH8YRtxu+FY/v48eNh34XpV1xxRcYxiO3D95rFeLNnz85YTqNGjWTNmjVRfycE/CVKlFDp8D3z5s2Lu71///23So8imEgHDx5U34NtT/S4tQo5IHPmzFEPJtdee636jOtGNO+++67UqVNHrROOWfxdtHMg0etTNI899pg65nBuRwY2gO/D7xmaa7N48WJ1HFauXFn9xji+Bw8erLYl2rGFYq2OHTuqAA7XxscffzzT+UlxGBRIr732Gs4S49tvv42ZZsuWLSoN0pr69Olj5M+f36hbt67Rt29f44UXXjCuuuoqle75558P+/tbb73VyJ07t3HbbbcZU6ZMMYYPH24UKlTIaNKkiXHixImMdN26dTOuvfZaY8yYMer7rrnmGvV999xzT9j3tWrVyihXrpxRunRpY8CAAcaLL75ozJ07N+b6P/LII+p79u7dGzYd34vpH3/8cca0BQsWGHnz5jWaNWtmjB071hg/frxRv359NW358uUZ6VavXm3ky5fPqFq1qvH0008bTz75pHHmmWcaDRo0UN8ZCp9r166t1vexxx4zJk+ebKxZs8bYtWuXUbFiRaNSpUrG448/rra5S5cuKj2Wa3rppZfUtKuvvlpt68SJE41bbrnFGDhwYEaaHj16qHUcMmSI8corrxijRo0yOnfubPznP/8J+82qVKmS8fn06dPGJZdcYqSkpKjfaNKkSepvsKy777470zZg28qXL2/8+9//NiZMmGCcddZZRsGCBY19+/ZlSovfyIq77rorbL8lum4zZsxQv0PLli3V//FaunSpmvfuu++qdX744YfVPrz//vuN4sWLq31w5MiRjO9YuHCh+l68Wz1XrJwHN910k5reqVMntf+eeeYZo2vXrsZzzz0X9n3mb43jpHfv3uozzo1Q2IaaNWuq3+PRRx9Vx0uFChWMwoULq9+8cuXK6rjEq2jRokaNGjWMU6dOZfz9Dz/8oKbXqVNHHSvYvxdffLHa37Nnz467H7CdxYoVM44fPx42fdq0aWH7J5Hj1qq33npLreO2bdvUZxwjl112WaZ0H3zwgUqHc3fcuHHGQw89pH77c889N+wcsHJ9ioRjCH/Xrl07S9uAaxbW+amnnlL7BfskNTVV7adQ5rF19tlnG7169VK/0RVXXKH2KbaHEsPgJqByEtxgGm7Koc477zyjUaNGGZ8XL16s0r3xxhth6T755JNM048ePZpp2bfffru6gR47dixjGm6c+FtciBJhBjc//fSTCnB+/fVXY+rUqUaBAgVUwGHe6HBDxYWkY8eO6v+h61WtWjWjffv2GdNwo8V67dixI2Paxo0b1cUuWnCTK1cu48cffwybjosabk6RwcH111+vbjzm/sANEDfPeJAeAUI8kcENAkKs2xNPPBGWDhdZ3Bh++eWXsG1A8BQ6bd26dWp66M3ZruDGyrrhRoRtixTteFq2bJn63unTp9sW3CRyHnzxxRcqXbQbu3msrV27VqXBzTZaEI7vMOF3xDQzkINPP/1UTcNxvXXr1ozpuIFGbl/btm2NevXqhZ1XWI/mzZurcyAeczn//e9/w6bjho2A15TIcWsVbu4tWrTI+IwACufcnj17wtJh2/DgcOjQoYxpixYtUusdeg5YuT5FMo//yAcB+OOPP9S1xnyFBoLRjsuRI0eq4zr0dzOPLQRDob/R5Zdfrs7FyIc1io7FUpQt/fr1y1TUE9o6AFnDKN5BEcm+ffsyXsgqR5brwoULM9Iiaz20mAXp8H2oT4Ms9FDIzo2WNR4PiidQFIBsaRQF1ahRQ7W2MOvqrF27VjZu3Cg9evSQP/74I2NdUezRtm1b+eqrr1QWNoobPv/8c1UMgWxiE74vVuVGFG0hi9yEGGDWrFnSuXNn9f/QfYMs6LS0tIwipWLFislvv/0m3377bcxtQxoUp/3+++8J74+PPvpIZZej1VgoFAVhnSJborRr104Vl5jq168vRYoUydQaBH+b02bVVtctmtDjCcUp+E3xG2FfhRbXJeM8wG+N4otHHnkk09+axZjYZhgyZEimbYYPP/wwbDqOp2bNmmV8vuCCC9T7JZdcooo8Iqeb6/Pnn3+qSrko1jHPM7ywf3Ds4RxAMVss+H7UXUN9NROKcFBn6rrrrsuYlshxawXW79NPP5UbbrghY9pVV12l9t8777yTMQ3nwPfffy+9e/dW15jQcxBFdaGsXJ+iFcNB6DJMZ511lrrWmK/Q4r7Q4xLXFiyvefPm6riOVnyI4uDI4mHU2cM1iLIW6OAGNy3cZMzmhdlpVooDE/UBzjnnHHXjrVChgu8rkpn1BkKhXD20rBoXStyoUQck9GTH6/Dhw7Jnz56MtD/++KNceeWV6mKDmybSmBVM8R2hsH/z5s1raX1xg8EFGGX+F154oVp26IUG6wqoqBi5rq+88oqq94D1wN+hfBw3ykjRpgGaiIbau3evaob+0ksvZVqWGbSZ+2b48OHqAopKz2effbbcddddmeoAjR49WrXOQPk90qHuT1ZNUFEnBcd8ZF0Bs4US5ocKvWHG+r3tYnXdosFv9PDDD2fU2cENGfsX+z3yeHL6PEC9LmwP6qvEgm3KlStXpmOoXLlyKlDI6vfAeQPY3mjTzfX55Zdf1PXqoYceynTsmcFX6HkZKXfu3CqoQF0Xsy4Q6vgggAwNbhI5bq1AMIVlnHfeeWob8EKghuANdV5M5n5K5Py0cn2KZB6bSBcJ+wbXGtwTIqE+GurT4Fgw62gh8ILI4xLHAwKlULjHgJ11x/ws0K2lED03aNBAPc137949W98xaNAg+eyzz9TBjKcDnHR4+VkiTRuR04ELR+jFJ5R5U8ANByc4ghpUmEMOAW4aeMLGRTKyCXNoUJIoVD42W0shmMXvhKabqJiMi4i5jDFjxqg+KqLBxejYsWOWlx25vuayELwhmIoGOSPmDf2nn35SrTFQgRdB2vPPP69u3KjQCHgKR24BKk3iOMQ2jBo1St107GoqG+v3dmvlxgEDBshrr72mKlojhwM3eTy8oDKqnU3i7W7iG1kh3epys/qdzG1HxV/k1EQTK0g3YR+iAj1y0JCDiZwTNIHGddSUyHFrhXkNQcukaBDMRwYCdl2fYu0jBHp4qIhkBiuYHwq5vsglwr0B1zXsM1QURk4ZAh63dNXgJ4EObnDxj3cDwNPJAw88IG+++aa6CaPmPW4caLUDGzZsUH2o4CBH0Ue0J/WgQpCC7FNckOIFJCjGQLYzbsYIQkxbtmxxZL0QpOApFbkkuDDjYm0WuSDAQhFMLLgYIvDCk2OkaNNiXTTx5IeLXbxlmXABxFMxXsiSRhCOnMERI0ZkNCkvX768ah2EF5440VwWaWId2+i/CL8NiiZCc0jMIkDM18XKusUKBt577z0VOKI5rgmBqY6OG3FsoUgFN7VYuTfYJtzckJsQ2r/P7t271Trb9XuYAQC6Bkjk2IsG5yiON+SmXHTRRaqYC9fI7By3icB1AM2uUSRjBg4m7LNevXqpHNkHH3wwYz8lcn4men2KBtuGe8CXX36pghPkJmcFxWU///yzat2HYjMTcnmiwbYhaDNzawB/D+xtPDGBLpbKCk6oZcuWyVtvvaV6okQzPjThNIsx/vvf/6oLBp5QENTgoLv11lt9n3OTCOQo4AaO5pCR0OzVvNGYT5uhuQC4GOJJzynItalYsaIKVAHl7LjYIfctWlYzipLMdcVNAcWXoXVccOFMtMdUfAey9vE0G+3Jz1wWIOgLheI41LfAvkI2PfZvZHY2AjAUg0Q2IQ512WWXqb+dNGlS2PTx48ergCG7OT52NAW3sm64yUQLWLCPI3OV0DQ5sol2MuC3xrpEy7Ew1xHbDGiWHGrcuHHqHd0k2AHHBm7KyHlBZ3jxjr1YkNOJZuS49qHjRZzLoUVSiRy3YNanQ72TeMycFfT4i+WGvnCNQcBjpsFxjwdQdKAXeh4jCEFwkZ3rUyzIhcLfIwc22jUj8viLdp3D/9FFQCyh5wDS4jMCU9QDpKwFOucmHlykkbWNd7PyKLJzkc2K6egdFZE1ynlROQ0nFA529FuAEw9PNF6AvlWi9VmC4racwEUHfUaMHDlSVdjt0KGDOjERGGJ/4aTGfkKFOtRTwJM2KpHiBoaLppNFHlgPbN+wYcPUtiNgRd0a3DjR5wVydfA0hqcyVCxEjg4u5oA6LSj+wRMfOvEyb8S4qGI7E/H000+r70Wdgdtuu01d+BEQoygOT5NmcIx9hnoXWBb64EBOIZaFmx1yNXABRpCG/YhiAeRK4e9RkTM01yISiubatGmjnrhRfo+/xTahvgCKckIrD1uBXAf87jmpVGxl3RCUYnsRBOAcxQMG9in6gcExhOIo7Fs8oCAd+rtJNmwLcheeffZZdezjWMNTOfo8wTw8QGEbcfyjHpZZTIsOJvGUj6IfpLPL5MmTVY4LimZx7OHhDDlE2EeoBLxu3bosvwPBDIJF5IDieyJ7k87quAVsH7YL34FzKhYELigqjqxPZOrSpYsqhsS5gxxLXJe7du2qlo3zGPWNzPMzNAhJ9PoUC4qC8b1YNuoVmT0U48EMOSxYbwR12A+AeTh2cQ/BdQXXFDzgxKq3htwtXJtwXOCYxsMTKpaj76N4RWYUIkYrqsDBrpgzZ05YfwmYhuamoS80P0SfLID+EcymxqZVq1apaf/73/8MNzObt8Z6bd++PWZTcOyHWM2uI6HJJprGopnqGWecoZpq3nvvvcbvv/+ekWbJkiXGhRdeqNKgzxjMN5udhjZjRTNjK01MY/VzA2lpaaoZdWjTZfRB0717d6NkyZKqDxU0HcVvjT5wQuEzmvyiWWb16tVV/zJDhw5VfVOEwrJjNdPevXu3moe+bvLkyaP670EzXeyv0Ka86IPEXB8sa9iwYWrdAc1M8Rl9umDf4nfB/yP7WYlsCg5oKjt48GC1v7F8NANGP0OhTeHjbQO+L7IZth1Nwa2sG84x7B8cN/gOc332799v3HzzzUapUqVU/y9o4o+0keuc06bgiZ4HJ0+eVOtfq1YtdcygGwL0eYNrhenvv/9WfSGh6wFsM46LESNGhDXZBmwDmgRHivY7mecvlh1q06ZNqh8dHHNYFvrJQVPr9957z0gEfgesX7Qm+4kct6H7HvsrFvNaGq9vF3TvgDQ4XkL7xMG+xrLRv828efNUH0SYlp3rUzy4ZmBfon8h/LY4JtDHDq4Hod0WwPr161XfODgmcWzi/mE2K492jcXv1KFDB9X1RNmyZdW+Cu2ziOJLwT+hwU5QIccAlTLNcWpQpoxoHC15Iivq4QkZETmeOvCkYGa1mi010MQYT5uoQEbBgOMGx4pZZElE7oHcH+R4xKrj4iaoYIx6Y9GKuyhxrHMTA5odosgBFTRROz70ZWY1IusT5bOh3fiblb50VsokZ0V2l46ABn2VmBXNiUgPPGjimhwKxaQobuP5GSyBrnODyDi0Fj1q5qP8Fa0aUEsdOTeo2Y76Cwh2UOEOo0qjqS7Kj1G5FOW8aEqOyoAoS0efDsixCa3lTv6Cegp4usI76lyhxRzK11HpkYj0QX0WXJdR0Rf1sFBpecqUKeqBNLLDRfI5I8DMct/Il1kuj/FFMD4NxhFC2TS6zL/yyiuN7777LuM70A0/6mmgHBXlohhHBl1wk3/hN0bdB5TpFylSRNXpCK0/QUR6HDhwQNWTQz0i1IHBuFIYuiOy/oubxarPRdawzg0RERH5CuvcEBERka8wuCEiIiJfCVyFYlT6Re+y6Ewq0bFciIiISC/UosHQLKgsjt6y4wlccIPAJlZvl0RERORu27dvV72zxxO44Mbs/hs7B11gExERkfsdPHhQZU6EDqobS+CCG7MoCoENgxsiIiJvSaRKCSsUExERka8wuCEiIiJfYXBDREREvhK4OjeJwqCZoaN9E9kJY1Fl1ZSRiIiyh8FNlHb0u3btkgMHDuheFfIxBDbVqlVTQQ4REdmLwU0EM7ApU6aMFCxYkB39kWMdSe7cuVMqV67MY4yIyGYMbiKKoszApmTJkrpXh3ysdOnSKsA5efKk5MmTR/fqEBH5Cgv9Q5h1bJBjQ+QkszgKATUREdmLwU0ULCYgp/EYIyJyDouliIh8AhmBixeL7NwpUr68SMuWIqmpwVk+kYk5N+R6jz76qDRs2FD3ahC52uzZIlWrirRpI9KjR/o7PmN6EJZPFIrBjU/cdNNNqqgDL1RQLVu2rLRv316mTp2qWudY8frrr0uxYsXELe655x5ZsGCBpb+pWrWqTJgwwbF1InITBBBXXy3y22/h03fsSJ/udIChe/lEkRjcOJg9u2iRyJtvpr8no97opZdeqpoX//rrr/Lxxx9LmzZtZNCgQXLFFVeoVjleVbhwYbZeI4oB15ZBg9BHV+Z55rS773buGqR7+UTRMLjxUfZsvnz5pFy5clKhQgU5//zz5f7775f3339fBTrIjTGNGzdO6tWrJ4UKFVLDx995551y+PBhNW/RokVy8803S1paWkZOEIqFYMaMGdK4cWM13DyW06NHD9mzZ0+WOSj//ve/5YYbblDLw7pNnjw5LM22bduka9euKojBSO3XXnut7N69O2axFHKpunXrJs8884yUL19eBT533XVXRmu31q1by9atW2Xw4MEZ2wCY1rlzZylevLhal7p168pHH31ky74n0gV1XCJzTCIDjO3b09P5cflE0TC48Xn27CWXXCINGjSQ2SELRu+4zz77rPz4448ybdo0+eKLL+Tee+9V85o3b66KcxBkIBcILxQLAYIHBCrr1q2TuXPnqhwiBBpZGTNmjFqHNWvWyH333adyk+bPn6/mocgMgc2ff/4pX375pZq+efNmue666+J+58KFC2XTpk3qHduA4M0M4LCtFStWlMcffzxjGwAB0PHjx+Wrr76S77//XkaNGqUCKiIv+//D27Z0Xls+UTRsLZXE7FlkICB7tmvX5LYgqFWrlnz33XcZn+/GSoTkrDzxxBPSr18/ef7551X/K0WLFlW5HcidCdW3b9+M/5911lkqQGrSpInK9YkXJLRo0UIFNXDOOefIkiVLZPz48apOEOrSINDYsmWLykWC6dOnq1yVb7/9Vn1/NMh9mTRpkqSmpqrtu/zyy9V33XbbbVKiRAk13cxhCs0huuqqq1SulbkNRF6HVkl2pvPa8omiYc5NALJnMV5WaL8qn3/+ubRt21YVESEA6NWrl/zxxx9y9OjRuN+zatUqVayDIQPwd61atcoIGuJp1qxZps8bNmxQ/8c7ghozsIE6deqoCs1mmmgQ/CCAMaF4KqsisoEDB6pADsHWI488EhbwEXkVmltXrJj+8BQNpuP0Qjo/Lp8oGgY3AcieRZCAQRoBRUmoYFy/fn2ZNWuWCljMOjAnTpyI+R1HjhyRjh07quKqN954Q+WqzJkzJ8u/c0rkkAUI3rJqFXbrrbeqIi8Ec8gtQv2h5557zuE1JXIWYvyJE9P/HxlgmJ/RcNCp3GLdyyeKhsGNz7NnUZ8GN3IUxwCCGQQBY8eOlQsvvFAVE2GMo1AomoocFuB///ufyt15+umnpWXLlqooKKucEtM333yT6XPt2rXV//G+fft29TKtX79ejfGFHJzsirYNgBwiFMGhXs7QoUPl5ZdfzvYyiNyie3eR994TqVAhfDpyVDAd8/28fKJIrHPjQPYsKg9Hq3eDpxjMdyp7FpVlMao5bupobfTJJ5/IyJEjVU5N7969VZoaNWqoisHIsUARE+q/TJkyJex7UA8H9WhQhwUVgTHWFoqiEDDg7xAc/PDDD6pycSKwjNGjR6sWTqgw/O6778qHH36o5rVr107VgbnxxhtVRWY0WUfrLRR5IWclu7ANqDh8/fXXq1ZkpUqVUnWNOnXqpAK6/fv3q8rIZpBF5HUIIFCfT1cPwbqXTxTGCJi0tDSEHeo90l9//WWsX79evWfXrFmGkZKS/koPcdJf5jTMd0KfPn3UduGVO3duo3Tp0ka7du2MqVOnGqdOnQpLO27cOKN8+fJGgQIFjI4dOxrTp09Xf7d///6MNP369TNKliyppj/yyCNq2syZM42qVasa+fLlM5o1a2bMmzdPzV+zZk3M9apSpYrx2GOPGddcc41RsGBBo1y5csbEiRPD0mzdutXo0qWLUahQIeOMM85QaXft2pUxH8tv0KBB2LZ27do17DsGDRpktGrVKuPzsmXLjPr166t1NQ/z/v37G9WrV1fTsH969epl7Nu3z9DBjmONiChI0uLcvyOl4B8JkIMHD6rWQOjHBfVHQh07dky12kH9lPz582d7GWh1jVZToZWLUaEO5c5By55FDgpyTEJbaJF9xxoRUVAcjHP/jsRiKQcwe5aIiEgfBjcOQSDTurXutSAiIgoera2lUNkVnbShz5QyZcqoCqc//fRTln+HCqlorYPsfFRGZRf67oWm5yySIiKiwAQ36G4fXeKjaTBa0aAVT4cOHVSfKrEsXbpUjVN0yy23qO78ERDhhdY7RERERK6qULx3716Vg4Og5+KLL46aBmMOIfj54IMPMqahvxYMrBjZpFlXhWKirPBYIyJyrkKxqzrxwwoDxgaKZdmyZapvlFDoORfTY/X9gh0S+iIiIiL/ck1wg15zUTcD4/6ce+65MdOhk7qyZcuGTcNnTI9VrweRnvkKHcOIiIiI/Mc1wQ3q3qDezFtvvWXr944YMULlCJmv0G7+iYiIyH9c0RS8f//+qg4NusuviPEJ4ihXrpwaWiAUPmN6NOh6Hy8iIiIKBq05N6jLjMAGo0tjgEdz5Op4mjVrpsY8CoWWVphO/mxKjhG/165d6+hybrrpJtXqztS6dWs2YSci8qhcuoui/vOf/8jMmTNVXzeoN4PXX3/9lZEGAz6iaMk0aNAgNSAkRrXGSNWPPvqorFy5UgVJQYabM4IAvPLkyaMCxXvvvVe1yvEy1JHauXNn3HpYTsCo4YkODEpERO6itVjqhRdeyHhKDvXaa6+pmzVs27ZNcuX6JwZr3ry5CoYefPBBuf/+++Xss8+WuXPnJv3m50aXXnqp2nfoL2jVqlXSp08fFeyMGjXKsWViBHIsI/Q3slNqamrMIkcnxWuxR0RE7qa9WCraywxsYNGiRfL666+H/d0111yjejJGM29UQr7ssss0rL37oG4RAgHkdqCIBU3mUWQX2iINrceQq1OgQAFp0KCBvPfee2HfMW/ePBUwou+VNm3ayLRp01TwcuDAATUfv0WxYsVUujp16qhlIgDFb3HPPfdIhQoVpFChQnLBBReo3860detW6dy5sxQvXlzNr1u3bkbP0vv375cbb7xRSpcurdYLy0eQFqtYCv0gNW3aVC27fPnyct9998nJkycz5iNYHjhwoMq5QpCCfYIcPisii6UwAOhTTz0lffv2VbmMlStXlpdeeinsb1BZ/dprr1X7B8vt2rWrWn8iIgpoaynXQh+H6DFZxysH/Ssi6ENvznnz5s2YhsBm+vTpqrPDH3/8UQYPHiw9e/ZUwQKgU7mrr75aBUbr1q2T22+/XR544IFM33306FGVG/TKK6+o70HHiygWRF9DaO323XffqQAUOUkbN27MKIJEAIRK499//736+8KFC6t5Dz30kKxfv14+/vhj2bBhg8rRK1WqVNTt2rFjhwpmMWwH1hFpX331VXniiSfC0iEoQxC1fPlyGT16tDz++ONhgV52oCi0cePGqmfsO++8U+64446M4UKQW4b+lhD4LF68WJYsWaK2D/vgxIkTOVouERFZZARMWloaIgb1Humvv/4y1q9fr94zHD6MEEPPC8tOUJ8+fYzU1FSjUKFCRr58+dQ25sqVy3jvvffU/GPHjhkFCxY0li5dGvZ3t9xyi3HDDTeo/w8fPtw499xzw+Y/8MAD6rv279+vPr/22mvq89q1azPSbN26VS17x44dYX/btm1bY8SIEer/9erVMx599NGo6965c2fj5ptvjjpvy5Ytanlr1qxRn++//36jZs2axunTpzPSTJ482ShcuLBx6tQp9blVq1bGRRddFPY9TZo0UdsXb/917do14zO+Y9CgQRmfq1SpYvTs2TPjM5ZfpkwZ44UXXlCfZ8yYkWm9jh8/bhQoUMD49NNPEzvWiIgoW/fvSK5oCk72QDEScjIwPMX48eMld+7cctVVV6l5v/zyi8pxad++fdjfIFfhvPPOU/9HLgRyREKh+CcScoPq16+f8Rk5Mah7c84554SlQ05NyZIl1f9RTIScjs8++0wVl2G9zO/AdHxevXq1GlsMOUeoWxUNcnbQMg5FVSZ0/Hj48GH57bffVHERhK4foPhqz549khOh34nlo7jL/E7kImEfI+cmFCp0b9q0KUfLJSIiaxjcZKVgQZHDh/Ut2wIUw9SoUUP9f+rUqapODYpsMMgobv7w4Ycfqnoxoaz2A4R6MaHBBb4bFX9RiRnvocyip1tvvVUV22D5CHBQRIZingEDBkinTp1UnRzUwUHRUdu2bVUx1jPPPCPZhRZjobC+qHOUE/G+E/ugUaNG8sYbb2T6O9QlIiKi5GFwkxXcxAsVEq9B6yW0JhsyZIj06NEjrPJvq1atov5NzZo1Myr5mr799tssl4WcH+TcIBejZcuWMdOhonO/fv3UC837X375ZRXcmAEAWnfhhe8YNmxY1OCmdu3aMmvWLFXx3AywUL8FOSZZdQDppPPPP1/efvttVf8oqwHdiIjIWaxQ7GOo1IuclMmTJ6ubP1ozoRIxKtuiqATFQM8995z6DKhAjL6Dhg8fLj///LO88847GS3VQnNqIqE4Cq2d0CcR+odBxeQVK1ao3Bnk1ABaHn366adqHpa7cOFCFajAww8/LO+//74q1kEFZfRWbc6LhIq8aJWEoAjrir975JFHVBDnVHP0RGD7UQkaLaRQoRjbidZiKI5DcRkRESUPgxsfQ50btGJCayHUw0GndGiZhKADwQNa8iD4MHuGxjuahiNAQf0S1N8xW0tlVXSFptsIboYOHapygFBvBrk+Zh0Y5OygqMlcLgKi559/PqMOD3JysMyLL75YBWSxxhhDkRpylxA8odgNuUAodkO/RzoVLFhQtQTD9nbv3l1tJ9YLdW6Yk0NElFwpqFUsAXLw4EE1OjgG0Yy86eBGhCdu3OTRzwuJPPnkk6rpOAcctRePNSIi++7fkVjnhsIgNwUtptDKCXVZxowZE/ihLYiIyFsY3FAYdLqHDvH+/PNPVcSCYqbQsb2IiIjcjsENhUH/OHgRERF5FSsUExERka8wuIkiYHWsSQMeY0REzmFwE6UHWgxTQOQkczDNyB6diYgo51jnJgRuNMWKFcsYLwh9l8TrvI4oOzBkw969e9Xxhb6IiIjIXryyRsBgiJDTQRaJ4kFvymiNxuCZiMh+DG4i4GaDEaQxRtDff/+te3XIp9Ars87hIoiI/IzBTZwiKtaHICIi8h4+OhIREZGvMLghIiIiX2FwQ0RERL7C4IaIiIh8hcENERER+QqDGyIiIvIVBjdERETkKwxuiIiIyFcY3BAREZGvMLghIiIiX2FwQ0RERL7C4IaIiIh8hcENERER+QqDGyIiIvIVBjdERETkKwxuiIiIyFcY3BAREZGvMLghIiIiX2FwQ0RERL7C4IaIiIh8hcENERER+QqDGyIiIvIVBjdERETkKwxuiIiIyFcY3BAREZGvMLghIiIiX2FwQ0RERL7C4IaIiIh8hcENERER+QqDGyIiIvIVBjdERETkKwxuiIiIyFcY3BAREZGvMLghIiIiX2FwQ0RERL7C4IaIiIh8hcENERER+QqDGyIiIvIVBjdERETkKwxuiIiIyFcY3BAREZGvMLghIiIiX2FwQ0RERL7C4IaIiIh8hcENERER+QqDGyIiIvIVBjdERETkKwxuiIiIyFe0BjdfffWVdO7cWc4880xJSUmRuXPnxk2/aNEilS7ytWvXrqStMxEREbmb1uDmyJEj0qBBA5k8ebKlv/vpp59k586dGa8yZco4to5ERETkLbl1LrxTp07qZRWCmWLFijmyTkRERORtnqxz07BhQylfvry0b99elixZEjft8ePH5eDBg2EvIiIi8i9PBTcIaKZMmSKzZs1Sr0qVKknr1q1l9erVMf9m5MiRUrRo0YwX/oaIiIj8K8UwDENcABWD58yZI926dbP0d61atZLKlSvLjBkzYubc4GVCzg0CnLS0NClSpEiO15uIiIich/s3MikSuX9rrXNjh6ZNm8rXX38dc36+fPnUi4iIiILBU8VS0axdu1YVVxERERFpz7k5fPiw/PLLLxmft2zZooKVEiVKqKKmESNGyI4dO2T69Olq/oQJE6RatWpSt25dOXbsmLzyyivyxRdfyGeffaZxK4iIiMhNtAY3K1eulDZt2mR8HjJkiHrv06ePvP7666oPm23btmXMP3HihAwdOlQFPAULFpT69evL559/HvYdREREFGyuqVDsxgpJRERE5L37t+fr3BARERGFYnBDREREvsLghoiIiHyFwQ0RERH5CoMbIiIi8hUGN0REROQrDG6IiIjIVxjcEBERka8wuCEiIiJfYXBDREREvsLghoiIiHyFwQ0RERH5CoMbIiIi8hUGN0REROQrDG6IiIjIVxjcEBERka8wuCEiIiJfYXBDREREvsLghoiIiHyFwQ0RERH5CoMbIiIi8hUGN0REROQrDG6IiIjIVxjcEBERka/k1r0CRGSPU6dEFi8W2blTpHx5kZYtRVJTda8VUXDOAd3Lp38wuCHygdmzRQYNEvntt3+mVawoMnGiSPfuOteMKBjngO7lUzgWSxF5HC6qV18dflGFHTvSp2M+kZ/pPgd0L58ySzEMw5BsOHHihGzZskWqV68uuXN7JwPo4MGDUrRoUUlLS5MiRYroXh2iHGeDV62a+aJqSklJf3rcsoXZ4+RPus8B3csPkoMW7t+Wc26OHj0qt9xyixQsWFDq1q0r27ZtU9MHDBggTz/9dPbXmogsQ/l+rIsq4NFl+/b0dER+pPsc0L18sim4GTFihKxbt04WLVok+fPnz5jerl07efvtt61+HRHlACou2pmOyGt0nwO6l0/RWS5Pmjt3rgpiLrzwQklBftv/Qy7Opk2brH4d+QRbCejZB1iOnemIcuLECZHnnxfBraB6dZE77xTJm9ff54Du5ZNNOTd79+6VMmXKZJp+5MiRsGCHggOV5VDm3KaNSI8e6e/4HKRKdLr2AQIolOfHOvUwvVKl9HRETrr3XpGCBUUGDxaZNCn9HZ8x3c/ngO7lk03BTePGjeXDDz/M+GwGNK+88oo0a9bM6teRx7GVgN59gJwhNDWFyIur+XnChODlolFyIYAZMyY99zIUPmO6kwGO7nNA9/IpBsOixYsXG4ULFzb69etn5M+f3xg0aJDRvn17o1ChQsbKlSsNt0tLS0PrMPVOOXPypGFUrIjqctFfKSmGUalSejq/css+mDUr83pguZhO5KTjxw0jNTX2OYAX5iOdn88B3csPgjQL9+9sNQVH3Rq0jELF4sOHD8v5558vw4cPl3r16onbsSm4fRYtSi9+ycrChSKtW4svuWkfsN4T6YBcCRRBZWX8eJG77/b3OaB7+X530ML9O1sd1KBvm5dffjm760c+wVYC7toHuIj6NYgk90q0HUky2pvoPgd0L5/+ke3e9/bs2aNep0+fDptev3797H4leQxbCXAfEKFVlJ3piOxguVhq1apV0qdPH9mwYQPq64R/WUqKnIqsUeYyLJayv2dOVJyNdhQFoWdO7gMKOjT/RquoeJd+HPtHjzrfLJz87aCTPRT37dtXzjnnHFm6dKls3rxZDcFgvvCZgoOtBLgPiBCwDBkSPw3mM7AhV+fcnHHGGbJmzRqpUaOGeBFzbpIzGi76dcBNPSij4XIfUNChufe4ceE5OAjqEdiMHq1zzcgvrNy/LQc33bp1k169eslVV10lXsTgxhlsJcB9QKSjh2IKjoNOBjf79u1TdW6aNm0q5557ruTJkydsfpcuXcTNGNwQERF5j6NNwZctWyZLliyRjz/+ONM8L1QoJiIiIn+zXKF4wIAB0rNnT9m5c6dqBh76YmBDREREngtu/vjjDxk8eLCULVvWmTUiIiIiSmZw0717d1mIvuSJiIiIXMhynRv0cTNixAj5+uuv1VhSkRWKBw4caOf6EREREVliubVUtWrVYn9ZSorrO/JjaykiIiLvcbS1FHoiJiIiIvJNnZtQyPSxmPFDRERE5L7gZvr06aq+TYECBdQLI4HPmDHD/rUjIiIisshysdS4cePkoYcekv79+0uLFi3UNFQu7tevn+q9GM3EiYiIiDxVofixxx6T3r17h02fNm2aPProo66vk8MKxURERN5j5f5tuVgKPRM3b94803RMwzwiIiIinSwHNzVq1JB33nkn0/S3335bzj77bLvWi4iIiCg5dW5QJHXdddfJV199lVHnBgNpLliwIGrQQ0REROTqnJurrrpKli9fLqVKlZK5c+eqF/6/YsUKufLKK51ZSyIiIiKnKhR7HSsUExEReY+jFYo/+ugj+fTTTzNNx7SPP/7Y6tcRERER2cpycHPffffJqVOnMk1HBhDmEREREXkquNm4caPUqVMn0/RatWrJL7/8Ytd6ERERESUnuEF5V7SRvxHYFCpUKHtrQURERKQruOnatavcfffdsmnTprDAZujQodKlSxe71ouIiIgoOf3cjB49Wi699FJVDFWxYkU17bfffpOWLVvKM888k721oBxDNajFi9GDtEj58iItW4qkpgZn+US6ueEccMM6EHkyuEGx1NKlS2X+/Pmybt26jFHBL774YmfWkLI0e7bIoEEIMv+Zhrhz4kSR7t39v3wi3dxwDrhhHYjcgv3ceBwuaFdfjdZq4dNTUtLf33vP2Qub7uUT6eaGc8AN60Dkpvt3toIbDLWA1549e+T06dNh86ZOnZrw92AIhzFjxsiqVavUoJtz5syRbt26xf2bRYsWyZAhQ+THH3+USpUqyYMPPig33XRTIIMbZEFXrRr+pBZ5YcOTGwZqdyJrWvfyiXRzwznghnUg8nwnfhhbqkOHDiq42bdvn+zfvz/sZcWRI0ekQYMGMnny5ITSb9myRS6//HJp06aNrF27VlVsvvXWW6N2KhgEKFuPdUEDhK3bt6en8+PyiXRzwznghnUg8nydmylTpsjrr78uvXr1yvHCO3XqpF5Wll2tWjUZO3as+ly7dm35+uuvZfz48dKxY0cJGlQatDOd15ZPpJsbzgE3rAOR54ObEydOSPPmzUWHZcuWSbt27cKmIahBDk4sx48fV6/QbC2/QGsIO9N5bflEurnhHHDDOpjYWovcwnKxFIqBZs6cKTrs2rVLypYtGzYNnxGw/PXXX1H/ZuTIkaqMznyhno5f4MKBsnSz0mAkTMfmIp2Ty4/HyeUT6eaGc0D3dSC0UjPq/rRpI9KjR/o7PmM6ketzbo4dOyYvvfSSfP7556oJeJ48ecLmjxs3TtxkxIgRqgKyCYGQXwIcPBGhmSdaSeACFlo13LzQTZjg3JMTvrdRo/jl/eefzyc38i8c2zfcIDJmTOw011/v7Dmg+zoQr7XWjh3p09lai1yfc/Pdd99Jw4YNJVeuXPLDDz/ImjVrMl6o5OukcuXKye7du8Om4TNqTaO/nWjy5cun5oe+/AQXDFw4KlQIn44nOacvKCdOiHzwQfw0mI90RH6EYpg334yf5q230tP59TqAbUP/OtHa3ZrTUHPA6X1AlKOcm4ULF4ouzZo1k48++ihsGjoTxPQgw4Wra9fkl3U//3zWFyzMR7o41aKIPCurlkpgtlRq3dqf1wErrbWc3gdE2Q5u7HT48OGwkcTR1Bu5PyVKlJDKlSurIqUdO3bI9OnT1fx+/frJpEmT5N5775W+ffvKF198Ie+88458+OGHEnS4gCX7whEyvJgt6Yi8xm0tlXRcB9y2D4gsBTfdE8zXnG2h9tjKlStVnzUms25Mnz59VHNzdOy3bdu2jPloBo5AZvDgwTJx4kQ1ttUrr7wSyGbgblC9ur3piLzGTS2VdOE++AeK4JFTjQc6XPfuvFMkb17daxVMCfdQfPPNNyf0ha+99pq4mZ96KHbDiVywYPyiKTxJHj3KE5z8yewdGBVno11Jg9A7MPYBGrH+8UfsNCVLon6kf/cB3HsvGtSEXw+xvXhmHz06eevh5wDroIX7d8I5N24PWij5cMLgxI3XUgTz/XJiEbmxpRLp72cHgU206yDWx5yejAAnWoB1zz3JD7A82VqKYkfLuIgNGJD+HpQWQjhhhg3LfAHBZ0wP2glF+uCCvmhReuslvCerdY7ZUunMM8Ono+VSEJpAI5iIl2sDmO/08A+6+tnBtT6rHlAw3+l7ghlgRR73p/4/wML8IGFwYwMcNCieGTxYZNKk9Hd8DsrBhAAGRU/jx4v075/+js/JDGx03dhCoR9JbD+qgOE9Rr+Svt4HurihA7lYnej5/RhwQ4Vis5+dyFZbZj87Th4HVlqN+j3AchUjYNLS0pBxrN7tMGwYMqJjvzA/CA4dMoxu3QyjXr30d3xOllmzDKNixfD9js+Ynixdu0b//TE9KPtAF2xjSkrmfY9peDm9D3QvX/cx8Pnn8a+B5gvpnHDyZObtjnxVqpSezgn9+ye2/UjnlPHjE1uH8eONwNy/GdzkwPHjhpGaGv9gwnyk87MmTaJvO6Y7zQ03lliBTbICHDfsA12yurFh+528sem+sZrwG8dbByePAd3BzcKFiS0f6fwaWNxxR2LrcMcdRmDu3yyW8nh2pG5Nm4p8+230eZiO+X7uGRVFT++/Hz8N5jtVROWGfaCTlQ7kdCwfnFw+4Lf917/ip8F8p46BXbvsTWcV9q+d6axCa6SsKi1jPtL5uWjQbfVPE2otNW/evIS/sEuXLhIUQe/E7vDh2IGNCfORrnBhf/aMGjJsWZbpXnjBn/tAJ90XddTpsDNddqBuTSIVepGubVv//QbLlyeerlcvf7YaLVfO3nR+aK2VUHDTrVu3hL4sJSVFTvn1ETGKoHdil+iFAunmzPHfRRVWrrQ3nRf3QZA7kNu719502YGgJdF0TgQ3iQ4p6NTQg9FyLXOSLjvMG7eufm5q1rQ3nZebw5sSKpY6ffp0Qq8gBTZuyY4Mcs5VmTL2psuOYsXsTefFfaAT+jFBJ3mxWipheqVK6emcULq0vem86MgRe9NZVa2avem82Gr09tvtTeeH1lqsc2NDdmQ8fu7ErkoVe9N5Ubt29qaj7HWiB5EBTjI60YschTun6bKjeXN701mVaODoVIDpJrjWo47bc8+lvyfr2m+laC4o9U+zNXDmkSNH5Msvv1TjPp2ICMUGDhwoQaI7O1In3dnBe/bYmy47kGtgZzov7gPdzE70ULE6tP4R9jkCGyc70TNzjuLVe3Iy5wjWr088XadO9i8fuRSoVxHvPEegiXRO2LrV3nRepLt4epML659aDm7WrFkjl112mRw9elQFORjBe9++fVKwYEEpU6ZM4IIbQADzxBP+Hc/DrRcV3fUt3PDk7oZ94AYIYLp2TX7X+6HDL0S7ueOm7vTwC5s325vOKmxbvnwix47FToP5Tu2DoNd9dMN1oLobfwOr7cxbtWpl3HbbbcapU6eMwoULG5s2bTK2bdtmXHzxxcYsD3SoYXcnfkHWrFlifSsgnZN9jETr4yUZfZy4oZ8TN+wDit6BHvZ7Mi6J/foldh4inR/7uWF/Y/qvA8eT9Bs42s/N2rVrZejQoZIrVy5JTU2V48ePS6VKlWT06NFy//33OxOBkSu1aGFvOq/Vtwhdh3gVWp1cBzfsA0rPOUKubWhl0l9+Sc64UrortVtpreWEoNd9dMN1IK8LfwPLwU2ePHlUYAMohkK9G8Aw5Nud6iWJXCl/fnvT5aS+RWSxD+pBJGvQQiwDdQ6iDR6K6U6vgxv2QdBh7CJkuYeOL4fPyRjbKndue9N5EQfw1X8dGO2y3yAF2TdW/qBDhw5y0003SY8ePeS2226T7777TtWzmTFjhuzfv1+WO1Ud2yYHDx5UgVhaWpoUKVJE9+p42oIFibUC+vxzZ/rXCIXK3MmubxE5aF/kmWQ+MSUrwNC5D4JM9++v+zzUvfxQaN8StLqPbrsOnHDwN7By/7Yc3KxcuVIOHTokbdq0kT179kjv3r1l6dKlcvbZZ8urr74qDRs2FDdjcGPvQVygAPpBip0GmXwYesCvFxhcSDD6dKzWMrjB4clpyxYGGn7kht9f93mIfVC2bPxekkuWFNm9m+cAJe/+bblYqnHjxiqwMYulPvnkE7XAVatWuT6wIXstXRr/ggqYj3ROwwUWZfpvvpn+nqz+JHWPbUR6ueH3130eImB56aX4aTCfgQ0lk+Xg5pJLLpEDBw5kmo4AB/MoOHT3rRBaLICnZ8TcPXqkv+NzMuo7uGUfkB5u+P3dsA4odkO9iv+vjpmpvgXrfVGyWa5itmjRokwd98GxY8dkMR9PA0V33wrx6jtgoEJMd7q+gxv2Aenjht/fLefhM89kPg+RY4TpF14YjHpnupfvhnU45YJ9oCTavnzdunXqlZKSYixcuDDjM16rV682nnrqKaNKlSqG27GfG//0L5FVHzNB6OeGgt2/CPA8jN3XED4nq/s13ct3wzrMcnj5Vu7fCQc3CGpy5cqlXvh/5KtgwYLGq6++argdgxv7LFyYWOddSOfH5ZuGDYu/fMwn/8KFGzfwyADHnOb0jUX3eaB7+aG/QbTAKhm/ge7lu2EdZiVh+Y504rdlyxbZtGkTgiFZsWKF+my+duzYoerc9O3b19lsJnIVFP3Ymc6LdQ2QBYtKzPG89VbyKjhT8PoXCfp5iHML44pFa/drTsMglk6dg7qX74Z1OOWCfZDtOjdV/n9o59NZVcunwNi71950XqxrkFVrGTBby7Ru7dx6UDDHtoKgn4dWWqw5cQ7qXr4b1mGxC/ZBpGz1WYkcnAkTJsiGDRvU5zp16sigQYOkup9HJqNMSpe2N112R2TGE2m0JwazjxEnR2TW/dRK7oFARkcAq/s8vOACe9N57RzUvXw3rMNOF+yDHDcF//TTT1Uwg6Kp+vXrqxd6Ja5bt67Mnz/fmbUkV9I9Irbu8VTc8NRKpPs8fPFFe9N57RzUvXw3rEN5F+yDTKxW6GnYsKExfPjwTNMx7bzzzjPcjhWK/ddSSOeIzEePJlaZEumI/Hge9u+f2DmAdH5sseaGa4DufXAySct3dFRwFEXdcsstmaajMvH69evtirnIA3SPiB1a3+HXX0UWLhSZOTP9Hd3dJ6NfDd1PrUS6z8NEayM4VWtBdw6uG64BuvdBqgty0SNZDm5Kly4ta9euzTQd0zAcAwWzpQjqtoSqVCm5I1Kb9R1uuCH9PVknEQaHszMdkdfOQwyMmNX5hvlI58cWa265Buhutddd8/KzXaH48ccfl3vuuUeNBP6vf/1LNm/eLM2bN1fzlixZIqNGjZIhQ4Y4ua7kUjhor7hC72i8ukYD1v3UShR6HnboINKr1z/nwYwZIoULO7tcnGe49I8ZEzsN5jt9Puq6DrnpGqCz1Z4blh8m0bIudN63e/du4/Tp08a4ceOMChUqZHTgh/9PmDBBzXM71rnxX6+Y6CQvsodWfE5G53m6e4cl98BvPH58et0SvCf7N+/aNfrxh+lBWL6u69ChQ4nVuUE6cmkPxQhuQh08eFC9vITBjb96xXRD78CxLurJvriTPjoDbDccg7qvAzqXj0A2keAG6Sh59+8U/JNIDk+uXLlk9+7dqs6Nl6En5aJFi0paWpoUKVJE9+p4GnqbxOjbsTpvMvuZQeVeJ7IlURRVsGD8Xi+x3KNHncuaxrLLlhX544/YaUqWFNm9W1PWLDnu3nvjF8lgVOzRo51b/l9/pZ8HWcF5UKCA/64Dupc/YIDIpElZp+vfX+S55+xffpActHD/tlSh+JxzzpESJUrEfVFwWOmV0gkoW8+qO2/MRzqnLFoUP7ABzEc68h8E2OPGxU+D+UjnlKFD7U3nteuA7uW7qc4NZbOH4scee0xFTURu6JXSDa0UEg1akK5tW+fWg/SwEmBjbB0nfPutvem8dh3QvXxUWr7nnqxzkJ1sLUY5DG6uv/56Nvcm1/RKyScm0s0NAXbx4vam89p1QPfyUeSNVlrvvx87DeYns/WoTrparma7WColVg9RFFjoCSCR/i3+v8cA291+u73psiPRsYQ4aKY/Vatmb7rswGjMdqbL7hhv8aC/HafGeMP1JavbE+Y7dR1Cjs2qVfHTrF6d3BGxddY/y59fZPDg9HpIeMdnTHdtcJNgvWMKkKVLE8uSRzqnlm9nuuxI9ILp1IWV9Kpd29502YGbh53prMIDDDrPjOf6652rUI8i36xuT5jvVL23rOr8gJN1ftxWsd6I+C3wGdOTHeAkHNycPn2aRVIuhiACJ++bb6a/J+MpYetWe9M5Wd/FKZMn25uOvAXnm53psiOrG6vVdFbhWpPV9r31lnPXJHRUaGc6r9X5cUtR1DPPxE+D+U5WrM/x8AvkPrNnpzeFbNNGpEeP9Hd8xnQnzZ1rbzov4j4ItkOH7E3nxWNQd87F4cP2pvNanR83ePbZxHLPkC5ZGNx4HAKYq6/OfHHZsSN9upMBzpEj9qbzYn2XRKuiscqa8/BUiMH50O8I3pPxlJhoPRKn6pu44TzUnXNx0UX2pvNa3UM3mOvChzwGNx6GbF5UEowWMZv9YqL5qVPZwbpbKyFoQQd58WC+k8ENxlGxMx1lD8rz0ZFdaEVGfHa6nB8ds+XK4iqK+UjnFOTS2pnOazkXCGYT+Q2Qzo91D90gxYUPeQxuPEx3dnCXLvamswpPQy+9FD8N5jvZM/DAgYm11EA6crYiY+QNBp+drsiIJq5ZdY6H+U42hd21y9502W0tFes8wHQnW0vp/g1051y5QVcXPuQxuPEwFD3Zmc6qP/+0N112R6GdNUvkzDPDp1eokD4d852ECyY68IoH84PSx0UQewjG0AoYYiEy9wCfnR56AX791d50VuHhYeLE9P9HBjjmZxQTOvmQgX3cpEn0eZju5G+gO+fKDQa68CGPwY2H7d1rbzqvLT9U5I2FdVyCwQ1DcABunhjjafz49CIovOOz04GNG4qHAQ8RCOKjBXiY7vRDBnLnYvXAjOlO5t4hR6pw4fhpzjjD2XpXuuV14UMegxsP090zaaJjqDo51qrOCtWAHIGxY+OnwfxkNoEMkp9/tjddTuDCjTpuGBwR78m6kOtuCg04z+IVDTp5HurOvcM2YlDSrCpzB6ETPzdhcONhuseUQdGPnensrlANTlaoBtzITp+OnwbzORqwM1jfIX2k7zx54qfBfCdGBAecX//6V/w0mO/Ueag79w7fm8g1wOncQ51OuKB4OBKDGw9LtNNopzqX1t3tuu7RgM11sDMdWVOunL3pvNaRpnls/f13/DSY79QxiG3FyPfxYL5TnWlu3GhvOi+OL6bb8y4pHg7F4MbDzj7b3nTZrUgYr5WEkxUJ3fDUrrsDsaCrWdPedF7rSNMN58EXX9ibzmsPeW6o86Tbzy4qHjYxuPEwjLaaSOdRSOcUVBR8773MOTjIscF0JysSuqGVQqIjkgRh5BIdORduOAd01/vSfR5s22ZvOquKFbM3nRePQd1+0zwESDQMbjwMFRaHDImfBvOdrtiIAAbNTBcuFJk5M/19yxbnW0hccIG96bw6KrQb6Mq50H0OuKHel+5+ZrIqmraazqpEc4adykHWfQy6wb599qazA4MbjzP72Ig8cfE5GX1shC4PPQFjdGC8O9mnhenFF+1Nlx2XXGJvOi/SnXOh8xxwQ70v3f3MlCplbzqrLr7Y3nTZkVVxSzKLY3TIlcvedHZgcOMDuHijKWJoHxv4nKzARhc3VORzwxAQOsdWckPOhc5zQHd9l8ji4ciWicgtcbp4WHelbt11btCf0fvvx0+D+UjnVzVdUvctVO7kLYqS0ceGLriRoiY8AglUnEP5stPZsG6oyGcOAXHVVfqGgAB0Uob+dEKbpKLLebzcknPhdICn4xzQXd8lFAKYTp3Sc6vQMggNCdDHjFNNwN3SJYSVFosdOti/fOzvRNNh3DOn4UFi8eL0gBrHHYojnb7+rFljbzpbGAGTlpaG+F29kz2GDTOMXLnMoTrTX/iM6U46ftwwUlPDlxv5wnykc9qsWYZRoUL4svEZ052G/RxvHzj5O8ycGX/Z5gvp/OjkScOoWNEwUlKibzemV6qUnk7XceD0eYhty5Mn/u+P+U7tgwcfTOwYRDondOiQ2PKRzmm43uB4lJDl4rPT16EqVRLbB0iXrPs3i6V8QkeRROighZGdWOFzMgYtPP/8+Gkw388V+XT3kOymnAsdQuu7xOL0uEqh52E0Tp+HKG5JpJ8dp4plEs0RdCrnUHeXHG6o+1a4sL3pbGEEjB9zbnTmnEQuN/KF+U7lnOhevglPRfHWwcmnprFjE3tiQjq/51zoVLZs9O3HdKfh+E7kGHDqPOjcObHlI50Tjh5NbPlI58flh56HsZad4vB52LdvYvsA6XKCOTcBojPnRPfQAyi/TmT5TpZzo3z7xhvjp+nZ07kKtbp7SNbdUscNatQQ2b07+jxMx3wnYf/amc6qFSvsTee1VpOo09S1a/w0mO9k3Sfdrfb+/NPedHZgcONhuoskEu1O3alu17/6yt502fH55yLHjsVPg+x4pHMCRhu2M53XWurolpaWdWs8zEc6p0yfbm86r1m/3t502TF3rkiTJtHnYTrm+7nVXnkXFk8zuPEw3TkXumvIZzUSr9V02ZFVcGk1nVW9etmbzmsdOep26aX2psuORAMnpwIs3fUtPvvM3nTZgfossQYoxnS/91J9zjn2prMDgxubYOygK68UqV8//T0ZYwnpLpJItKjFqSKZxo3tTefF7NhWrWL3TGvCfKTzY0eOkTlk6OOmY8f092T0K6I7wIdEizucKhYpWtTedF47B3WPiu6GXqrvdOEQFAxubNC0aXq2P7Iev/8+/R2fMd1JBQvam86qM8+0N51Vbdvam86LXc8vXZpenh4P5iOdX1vsQbdu6cf55MnpT+h4x2dM93vPrLo7UNM9DEru3Pam89qo6G6o+5Y3r8gVV8RPg/nJbLnK4CaHEMDEy450MsApUsTedFY9/ri96bzYOzA6TbMzndfK2k2ouI5gYvDg9GJQvOOzkxXaTQhgYvUQi+lOBjhVqtibLjsSzZVzKvcu0U4inepMErnldqazKtH6dE7Vu8uq7luFCs7XfUOu1IIFWY8Kn4zBdE0MbnIARU+xAhsT5jtVRJXok7FTT9CoR5DVkwCelpyqb4BlX3RR/DSY72TxyIwZ9qbz4qjkZou9yAsXPiejjxWdXd8n+vDi5ENOnTr2prNq+XJ703ktB1n39keKzMk1HBp2IjJwyeo+d+hQerpkYXCTA9dfb286rzXBhDx59GQFm0Hbf/8bPw3mO1k8sn+/vem8Vu8J+3bcuPhpMN+p3wA5RHam8+L4ZqjAbWc6r+Vc6C4adkNrrdBO/NBpX6jff3e+E79p0+xN55vgZvLkyVK1alXJnz+/XHDBBbIizt349ddfl5SUlLAX/k4HNzRF1glReFbNoDHfqWhddz87kGiunFO5d7orlWM8sawCJ8xHOiegVZad6bxWmRc2b7Y3ndcesnQHF7pbq7lhANstW+xN54vg5u2335YhQ4bII488IqtXr5YGDRpIx44dZc+ePTH/pkiRIrJz586M19atWyWIEu0czKlOxF57zd50Xgwujx+3N51VWQV3VtN5Leci0QqKTlVk1F2Z1w1dIuzaZW86r7VYc0OAq7sTv6Mu6JbDdcHNuHHj5LbbbpObb75Z6tSpI1OmTJGCBQvK1KlTY/4NcmvKlSuX8SpbtqzocPHF9qaz6tVX7U1nFVqG2ZnOqsjs15ym82LOTbFi9qazCs1L7UxnVY8e9qazKtZ4TtlNlx0HDtibzmvnwJEj9qaz6qyz7E3nxYYF+zUXz7suuDlx4oSsWrVK2rVr988K5cqlPi9btizm3x0+fFiqVKkilSpVkq5du8qPP/4oOrzxhr3prIoT/2Urndforkjohj4+dN/YdGdHZ9XHj9V0VuFpPFbPtCbMd/KpPV8+e9N57TeIbB2U03RWIUfEznRe7MTvlOa6f64Lbvbt2yenTp3KlPOCz7ti5GHWrFlT5eq8//778p///EdOnz4tzZs3l99i5MkdP35cDh48GPbySy35RLv0dqrr73PPtTed1yoSQuXK9qbzml9+sTedVfPm2ZvOKlyss8qZxHwnL+pt2tibzmv9bfXpY286r+VchXbiF08lBzvxYw/FNmjWrJn07t1bGjZsKK1atZLZs2dL6dKl5cUYo6KNHDlSihYtmvFCbo9fmgHrzgrU/cTYrJm96bzYx0aJEvamsyrRJtZONcXWnR2PDgMTqVTvZNf/zzxjbzqvXQdQUdbOdF6sc4PuLho1ip/m/POd6xZj2DB703k+uClVqpSkpqbK7oghdfEZdWkSkSdPHjnvvPPklxiPhiNGjJC0tLSM13Yb8wbRbt/OdFYl2kjMqcZkWXXaZDWdF4ulqle3N51VCZ4mCafzWoVa3bkGugMLNwxgqzu40Q1Bg53psgNdLXzwQfw0H3zgXJcMl1xibzrPBzd58+aVRo0ayYKQux+KmfAZOTSJQLHW999/L+VjFCbmy5dPta4KffmlnFN3WTP6T7AznRfLeXUXy+gObnSP66P7HPzuO3vTZceQIfam89oxYA47YFc6rz3kuqFLhqUJDu+SjGFgXFMshWbgL7/8skybNk02bNggd9xxhxw5ckS1ngIUQSH3xfT444/LZ599Jps3b1ZNx3v27Kmagt96661JX/fmze1N57WcC93NkHX3ceKGZqi66Q4usqrMazWd18Y1ckNTbN3Xgax6qLaazqqsxpWymi47Nm60N50XK1VHcvCUS8x1110ne/fulYcfflhVIkZdmk8++SSjkvG2bdtUCyrT/v37VdNxpC1evLjK+Vm6dKlqRp5supvBYnBOO9N5TVZDX1hNlx3Fi9ubzqo43UFlK53XKhKioeXTTyeWzq+5h7r7WtLdYk93J3puKJY7edLedE7m3PTqJcHIuYH+/fur3Be0bFq+fLnqpdi0aNEi1Suxafz48RlpEeB8+OGHqs6NDqh5nsjAjU7VUF+71t50Xqvzo7t/CzcUCejOObnzzqwrKWI+0jkh0XPLqXMw0XF7nBzfR/fI5IlWUnWqMqvusbV0D8PjhgBzuwtzblwR3HhZVjdOJ2+suitT6r6o6h441A0jMoc8B9iSzir0/JtV4Ib5TvUQ/OWX9qbzWms1Nzy16y6a092RZVbj61lNlx2JdvX2o0Ndwv30k73p7MDgxsNjKyXaMbNTHTjrbgKpuzItTJ5sbzqrYvSAkO10XqN7wL5Ro+xN58UcVN0NG3TnHMXpbzZb6bzYkeIRF+SiR2Jw4+ELq+6yZt3djuvOioX33rM3ndfGdkKuWFbNnDHfqdwz3YNG6m4t54YcXN3DoOjOudI9vpkbOlQ9rblSeTQMbnLg11/tTee1rEjddOccuaEpcJUq9qaz6tlns65PgvlI54S9e+1N58XBW3X3kKu7KbjunJNEx212cnznhg3tTee13MNoGNzkQNWq9qbzWv8Kupsf6n5idUO9H91PrbqHANHNDRUpdT81Z1U0bzWd1+p76F4+JDqq0EH7Rh8KU6iQvenswOAmB3r2tDed11pq6C4W0/3E6oamwB9+aG86rx0DuunuyBL+/tvedF6j+zroxvomyeaG+o+RGNx4+Mamm+7WUrrL+t1QkU/3hb1ePXvTeW34BzcE2Lor1OpWqpS96bxYPK67xVg5Bjf+MmGCvem8eGHVyQ2jgusOLi67zN50ViXaxZRTXVHp7khTdwd6bjgGddPdsKFoUXvTeXEQ5YouuBZHYnDj4Yp0uvtX0N1KoG1be9N5ke7KjLqf2Bo3tjedFwMLN9xcddLdmanufn7c0Gpy3z5709mBwY2HgwvdXf/rLuv//nt703nRqlX2prNq925703mtQrPuYkkIevH40aP2prNq505702VHyNjTtqTz2vKjYXDj4RrquulupfHDD/am8yLdv4Hu4Ep3M2A30F2h1Q0Bnk66H/LcEOClubBhAYMbD/exobsZqu4KxYUL25vOi3QHN7qLBHQ/YLihWCroOTe6uWH/616HIy5sMcbgxsP9rOh+YtAdXLhhXB/ddI8K/ttv9qbzWnDnhhGhdd/Y3FDnJOh0B9mGC4L8SAxucuCMM+xN5zW6syJ139jdQHfuoe5myLpv7EEvknHDQxbp/w2Ka67/GQ2DGw+Pa6O7tZLuaH3DBnvTeZHum3udOvam8xrddR2I3NC4pZTmvoaiYXCTA3/9ZW86P5RzJpPuIgk30H1Re+UVe9MRkfeKBn/+2d50dmBwQ57lxsHakk13z6QtWtibjoi8l4t+ygWVqiMxuCHP0j1opRvoHjxVd70rInLHEBBuw+DGw3Q/tevG4Eb/PtD9xEhE+iv2uxGDGw9zYw31ILUQcAO21iEi3RXb82pu3BINgxsPO3DA3nRewxs7K1W7oZ8ZIt10D+BaqJC96ezA4MbDdPfOqhuLRPQHN7qzw3W3FiNyA90VevO58CGDwY2H6T6giXQfg0HvDoHIDf74w950dmBwQ0Sexdw7Iv3+dmH9RwY3RERE5CsMboiIiMhXGNwQERGRrzC4ISIiIl9hcENERES+wuCGiIiIfIXBDREREfkKgxsiIiLyFQY3RERE5CsMboiIiMhXGNwQERGRrzC4ISIiIl9hcENERES+wuCGiIiIfIXBDREREfkKgxsiIiLyFQY3RERE5CsMboiIiMhXGNwQERGRrzC4ISIiIl9hcENERES+wuCGiIiIfIXBDREREfkKgxsiIiLyldy6V8A/DFkpjaWRrM6YclpS5LjkUy8pl18kX770V357/t9Z8md8/7EY/89YvpFHJCVF6x4iIiJKBgY3NmkhS8ICG8glhhSQY+olu9NsX+Y8zXl0hpXEoXEVgiyrQV2UaSMSCO7M/8v6GN+dOzeDPiIin2FwY5Ml0kKWyYXSTL7RvSruZxgif/2V/sqBp6wkriuOyHaAF3W+9aDvVSsB3jwLuYMI+oiIPIpXMNukSHNZFvd+bvsSo9wsU+S05JUTGQVS+eWYet/4/XGRY8dEjh9Pf9nw/6WL/vn+0GWZ/88rf9u/0X6WjaCvr5Xv7yruDu5iyZUrZjC2PIGgLqNo9ikbioQZ9BF5As9UnzEklwot8Apzrv3LamHhZpWs4C7m8k+dFjlxwvYAb/or8QO80P+XKvz/f/s3gz5LTp+OGfQ1tfI9D4g3g7ssgr4/rOTe9bWvzp/5/1TJJ6d4KyGX4RFJwYAbAS7GeNmozyuJpzUOid4AL9qd+NSp9KAvmwHe8MFZB3Xm/1tfkMV3njxp564JTNBXQiwU775m/2pY+tUcqN4WeViflNSYAZ5ckM1ALs78BnGCSgZ9+nDPEwVZaqpIgQLpr2wYPTjxtMY3LgzuYkHQZwZfcQK8K9onlmuH97tuyWYOIdaFEpZbhRRHpZAczTxzhf3LW2slsUNtFxI5tE/+f9AnJezPvbsqSoC3X4rLL3K26JJiGE4UGLjXwYMHpWjRopKWliZFihRx54WVy/fE8t2wDlx+sJef9HUwg76QAKxWtcQDvPEjbaz7x6DP9VKihF05OQat3L+Zc0NERInn9BUsmP76fz9Z+PPx9/kvwMTyU+VkQgHeZ/Psq+8X+v8/d/2zrFQ5bf9GehCDGyIiohxILwhLLwyLq7Mzyy/pggDPbTj8AhEREfkKgxsiIiLyFQY3RERE5CsMboiIiMhXGNwQERGRrzC4ISIiIl9hcENERES+wuCGiIiIfMUVwc3kyZOlatWqkj9/frngggtkxYr4A4C8++67UqtWLZW+Xr168tFHHyVtXYmIiMjdtAc3b7/9tgwZMkQeeeQRWb16tTRo0EA6duwoe/bsiZp+6dKlcsMNN8gtt9wia9askW7duqnXDz/8kPR1JyIiIvfRPnAmcmqaNGkikyZNUp9Pnz4tlSpVkgEDBsh992UeiOS6666TI0eOyAcffJAx7cILL5SGDRvKlClTslweB87k8v20Dlx+sJfvhnXg8vUu3w3rkJKk5Vu5f2vNuTlx4oSsWrVK2rVr988K5cqlPi9btizq32B6aHpATk+s9MePH1c7JPRFRERE/qU1uNm3b5+cOnVKypYtGzYdn3ft2hX1bzDdSvqRI0eqSM98IVfILy6/3N50VuXKZW86IiIiO/j+tjNixAiVhWW+tm/fbtt3X321vemsevdde9NZtWWLvemcygp144i1RER2ueYae9NZVbCgvek8H9yUKlVKUlNTZffu3WHT8blcuXJR/wbTraTPly+fKpsLfdmlSxd701lVoIBI167x02A+0jmhcmWR3Lnjp8F8pHPChg32psuOGjXsTWfVOefYm86qqVPtTWfVwIH2prPqs8/sTZcdS5fam86qxx+3N51VrVrZm86qEiXsTZcd06bZm86q7t3tTef54CZv3rzSqFEjWbBgQcY0VCjG52bNmkX9G0wPTQ/z58+Pmd5JiZZwOVkSNndu7AAH0zHfSX//HTvAwXTMd0rNmvam8+KF/Y477E1nVe/e9qazqmlTe9NZ1b69vemyI9FLn1OXyPvvtzedVbfdZm86q8480950XnzQbdTI3nS+KJZCM/CXX35Zpk2bJhs2bJA77rhDtYa6+eab1fzevXuroiXToEGD5JNPPpGxY8fK//73P3n00Udl5cqV0r9//6Sve8uWIhUrZh3YIJ2TEMAcPSpy110iHTqkv+Oz04GNCQHMxo0iefKkf8Y7PjsZ2CRa897ptoDly9ubzqo77xRJTY2fBvORzgmLF9ubzqoKFexN58VjUPc64PiaNSt+GszP6jj16jGgO/c20QeI3g49YACuL1nVrcR8p65DURku8NxzzxmVK1c28ubNazRt2tT45ptvMua1atXK6NOnT1j6d955xzjnnHNU+rp16xoffvhhwstKS0vDaa7e7TBrlmGkpKS/0i8h6S9zGub73bBhhpGaGr79+IzpyYB9XKZM+PLxORn7/uRJw6hYMfPvH3ocVKqUns4p2M/Rlm2+nPwdZs6Mv2zzhXRO7v94y3Z6/5s++yx8uficTDjeixULXwd8TtY1CMs544zw5eOz08vXfQwcOpTYOYB0uvZBisPXIXxv4cLxtx/HQk6Xb+X+7YrgJpnsDm4AJ2/kgYUDKSiBja4ba2hwGe1kTlZw6YYAV1eAuXBhYhd2pPPrMegGbjgPADcv/NYIZvGejKDSDcdAkybxl4/5fj4PFyZp+Qxukhzc6DypdTp+PPMNNfKF+Ujnx6cVtwW42M/jxxtG//7p707tdzflXOl+ancDN50HOrjhGMB5Hm/5Tl8HdOegzkzS8q3cv7XXufELlCe3bi1yww3p706VL7vJ88+LnDoVPw3mI50TUI/jt99iz8fphJb/TtX3iGwF8OuvIgsXisycmf6OJvDJbB2QN6/I3XeLPPdc+js+Ow3H+cSJ0Zvcm58nTHDufMjqGIBkHQO6uOk80EH3MYBr3KBBsefjPMD5mNW10st1/8qUsTedHRjcULZt2mRvOqt27rQ3XU4FMcAFBHDvvZe5wiYq22O6kwGe244BHYK+D3RvvxuCS7NxS6w+vVJSktO4xU2y6KWEEoWoHAcvTiBExziIknlzO3EiPYcEgUT16um10p1+csdy7EzntacV+gcCGDQ1TfY54KZjQNc1wE37QAfd2687uArNQUWHsQhkDCO5OagxxrnOdjpbGAGTrArF+Jys+ha6KpO6pc6NzpZKpJcb6lvovgYE/TzQvf26K/O6oe7fQlYo1s+ppuC6WinobiXQtWv85WO+31sqkV66zwHd14DQdQjqeaBz+3UHV25o3HIySfuAwU2SghvdrRTcknPixqfmoDTFDzrdx6Dua0CooJ8HOrc/6MFlsvYBg5skBTe6syPR3DeR5SOdE3Rvf9Cb4pP+Y1D38iMF/TzQuf1BDy6TsQ+s3L9ZodjDFcnYWilzSyUKFt3HoO7lRwr6eaBz+3VVqneT7i7aBwxuPFxLn62VKOh0H4O6l0/uEvTg0k37IAXZNxIgBw8elKJFi0paWpoUKVIkx00/q1YV2bEjPQMuEprgoe8BdObmROSK5t8FC8bvHArLxSCaTjQL1739RLqPQd3LJwqSgxbu3+zEz8O9syJgGTIkfhrMd6q/G93bT6T7GNS9fCKKjsGNh3tnhdGjRYYNy3zxxGdMx3w/bz+R7mNQ9/KJKDMWS9kkiD0Uu2n7iXQfg7qXT+R3By3cvxncEBERkeuxzg0REREFFoMbIiIi8hUGN0REROQrDG6IiIjIVxjcEBERka8wuCEiIiJfYXBDREREvsLghoiIiHyFwQ0RERH5Sm4JGLNDZvR0SERERN5g3rcTGVghcMHNoUOH1HulSpV0rwoRERFl4z6OYRjiCdzYUqdPn5bff/9dzjjjDElJSRG/RbUI2rZv3x7IcbOCvv0Q9H0Q9O2HoO+DoG+/n/eBYRgqsDnzzDMlV674tWoCl3ODHVKxYkXxMxzMfjqgrQr69kPQ90HQtx+Cvg+Cvv1+3QdZ5diYWKGYiIiIfIXBDREREfkKgxsfyZcvnzzyyCPqPYiCvv0Q9H0Q9O2HoO+DoG8/5OM+CF6FYiIiIvI35twQERGRrzC4ISIiIl9hcENERES+wuCGiIiIfIXBjQ+MHDlSmjRponpdLlOmjHTr1k1++uknCaqnn35a9T599913S1Ds2LFDevbsKSVLlpQCBQpIvXr1ZOXKlRIUp06dkoceekiqVaumtr969ery73//O6ExaLzoq6++ks6dO6ueWnGsz507N2w+tvvhhx+W8uXLq/3Rrl072bhxowRlH/z9998yfPhwdR4UKlRIpendu7fqnT4ox0Cofv36qTQTJkyQoGBw4wNffvml3HXXXfLNN9/I/Pnz1YndoUMHOXLkiATNt99+Ky+++KLUr19fgmL//v3SokULyZMnj3z88ceyfv16GTt2rBQvXlyCYtSoUfLCCy/IpEmTZMOGDerz6NGj5bnnnhM/wrndoEEDmTx5ctT52PZnn31WpkyZIsuXL1c3+I4dO8qxY8ckCPvg6NGjsnr1ahXw4n327Nnqga9Lly4SlGPANGfOHHVvQBAUKGgKTv6yZ88ePK4aX375pREkhw4dMs4++2xj/vz5RqtWrYxBgwYZQTB8+HDjoosuMoLs8ssvN/r27Rs2rXv37saNN95o+B3O9Tlz5mR8Pn36tFGuXDljzJgxGdMOHDhg5MuXz3jzzTeNIOyDaFasWKHSbd261QjK9v/2229GhQoVjB9++MGoUqWKMX78eCMomHPjQ2lpaeq9RIkSEiTIvbr88stVFnyQzJs3Txo3bizXXHONKpY877zz5OWXX5Ygad68uSxYsEB+/vln9XndunXy9ddfS6dOnSRotmzZIrt27Qo7DzAezwUXXCDLli2TIF8XUTRTrFgxCcog0b169ZJhw4ZJ3bp1JWgCN3BmEA5o1DVBMcW5554rQfHWW2+p7GcUSwXN5s2bVZHMkCFD5P7771f7YODAgZI3b17p06ePBMF9992nRkKuVauWpKamqjo4Tz75pNx4440SNAhsoGzZsmHT8dmcFzQojkMdnBtuuMF3A0nGMmrUKMmdO7e6FgQRgxsf5l788MMP6qk1KLZv3y6DBg1S9Y3y588vQQxokXPz1FNPqc/IucExgPoWQQlu3nnnHXnjjTdk5syZ6il17dq1KshHPYOg7AOKDnUQr732WlXJGg8BQbBq1SqZOHGieuBDblUQsVjKR/r37y8ffPCBLFy4UCpWrChBgRN5z549cv7556snFbxQyRoVKvF/PMX7GVrE1KlTJ2xa7dq1Zdu2bRIUyHpH7s3111+vWsggO37w4MGqJWHQlCtXTr3v3r07bDo+m/OCFths3bpVPfwEJddm8eLF6ppYuXLljGsi9sHQoUOlatWqEgTMufEBPJEMGDBA1YpftGiRag4bJG3btpXvv/8+bNrNN9+siiiQFY1iCj9DEWRk03/UPalSpYoEBVrH5MoV/qyG3x25WkGD8x9BDOogNWzYUE1DkR1aTd1xxx0StMAGTeDxwIduEoKiV69emeoeorUcpuPaGAQMbnxSFIXs+Pfff1/1dWOWq6MSIfq48Dtsc2T9IjR9xcUsCPWOkEOBCrUolsLFfMWKFfLSSy+pV1Cgvw/UscGTKoql1qxZI+PGjZO+ffuKHx0+fFh++eWXsErEKIpDIwLsAxTJPfHEE3L22WerYAdNolFEhz6wgrAPkJt59dVXq2IZ5GYj99a8LmI+6qP5/RgoGRHMoasIBL01a9aUQNDdXItyDj9jtNdrr71mBFWQmoLDf//7X+Pcc89VzX1r1aplvPTSS0aQHDx4UP3elStXNvLnz2+cddZZxgMPPGAcP37c8KOFCxdGPef79OmT0Rz8oYceMsqWLauOibZt2xo//fSTEZR9sGXLlpjXRfxdEI6BSEFrCp6Cf3QHWERERER2YYViIiIi8hUGN0REROQrDG6IiIjIVxjcEBERka8wuCEiIiJfYXBDREREvsLghoiIiHyFwQ0RERH5CoMbIkqKZcuWqfGeLr/88qQu98SJEzJmzBg1sCqG5cCwJA0aNJAHH3xQfv/996SuCxElB3soJqKkuPXWW6Vw4cLy6quvqoE+MdaR044fPy4dOnSQ7777Th577DE1yGjp0qXVODxvvvmmFC9ePJAjhxP5HXNuiCgpg/y9/fbbalRq5Ny8/vrrmdLMmzdPDfSYP39+adOmjUybNk1SUlLkwIEDGWm+/vpradmypRoQtlKlSjJw4EA5cuRIzOWOHz9e/c0XX3yh0jZq1EgNKtiqVSuZMmWKGmzU9Mknn8hFF10kxYoVU4MOXnHFFbJp06aM+b/++qtan7feeksNVIr1xMCsX375pa37iohyjsENETnunXfekVq1aqkRiXv27ClTp07FoL0Z85GTglGcMWr1unXr5Pbbb5cHHngg7DsQaFx66aVy1VVXqZwYBEsIXPr37x9zucidad++vZx33nlR5yNYMSFIGjJkiKxcuVIWLFgguXLlkiuvvFJOnz4d9jfDhg2ToUOHqpHHmzVrpkYk/+OPP3Kwd4jIdrpH7iQi/2vevLkxYcIE9f+///7bKFWqVNjozMOHD1ejmofCqN64RO3fv199vuWWW4x//etfYWkWL15s5MqVy/jrr7+iLhcjhA8cODBsWrdu3YxChQqpV7NmzWKu8969e9Xyv//+e/XZHGn66aefzkiDbalYsaIxatQoC3uDiJzGnBsichTq16xYsUJuuOEG9Tl37txy3XXXqbo3oWmaNGkS9ndNmzYN+4wcHRRnod6O+erYsaPKWUHOT6Kef/55Wbt2rfTt21eOHj2aMX3jxo1qHc866ywpUqSIVK1aVU3ftm1b2N8jt8aEbWncuLFs2LAh4eUTkfNyJ2EZRBRgCGJOnjwZVoEYRVL58uWTSZMmqdZLidbbQXEV6s5EQj2aaFCHB4FTqPLly6v3EiVKhE1H8VKVKlXk5ZdfVuuKoAl1atDaioi8hTk3ROQYBDXTp0+XsWPHqtwS84VcGAQQqBMDqIuDui6hvv3227DPaMq9fv16qVGjRqZX3rx5oy4fOTHz589X9WPiQZ0ZBEFoHt62bVupXbu27N+/P2rab775Jmz7Vq1apdITkYs4XvBFRIE1Z84cI2/evMaBAwcyzbv33nuNxo0bq/9v3rzZyJMnj5r2008/GW+//baqy4JLlPm369atMwoUKGDcddddxpo1a4yff/7ZmDt3rvocC+ritGjRwihevLiq87Nq1Sq1rE8++cRo2rSpcf7556t0p06dMkqWLGn07NnT2Lhxo7FgwQKjSZMmavnYhtA6N5UrVzZmz55tbNiwQdUBKly4sKqfQ0TuweCGiBxzxRVXGJdddlnUecuXL1fBAoIWeP/9940aNWoY+fLlM1q3bm288MILan5oZeEVK1YY7du3VwEFKgTXr1/fePLJJ+Ouw7Fjx1Ql4AYNGqjgCN9fq1YtY/Dgwca2bdsy0s2fP9+oXbu2mo/vXbRoUdTgZubMmSowQtBWp04d44svvrBpbxGRXdiJHxG50pNPPqn6otm+fbu4Afq5qVatmiriatiwoe7VIaI4WKGYiFwBrZjQYgod6C1ZskQNmRCvDxsiolgY3BCRK6Ap9hNPPCF//vmnav2EjvJGjBihe7WIyINYLEVERES+wqbgRERE5CsMboiIiMhXGNwQERGRrzC4ISIiIl9hcENERES+wuCGiIiIfIXBDREREfkKgxsiIiLyFQY3REREJH7yf1Kz0BILpZzoAAAAAElFTkSuQmCC",
      "text/plain": [
       "<Figure size 640x480 with 1 Axes>"
      ]
     },
     "metadata": {},
     "output_type": "display_data"
    }
   ],
   "source": [
    "plt.scatter(X, y, color='blue', label='Data points')  # Scatter plot of the data\n",
    "plt.plot(X, model.predict(X), color='red', label='Regression line')  # Regression line\n",
    "plt.xlabel('Age Gap')\n",
    "plt.ylabel('Total Income')\n",
    "plt.title('Linear Regression: Total Income vs. Age Gap')\n",
    "plt.legend()\n",
    "plt.show()"
   ]
  },
  {
   "cell_type": "code",
   "execution_count": null,
   "id": "610c6504-eb5f-45bf-9c0c-27fbe7b7a198",
   "metadata": {},
   "outputs": [],
   "source": []
  }
 ],
 "metadata": {
  "kernelspec": {
   "display_name": "Python 3 (ipykernel)",
   "language": "python",
   "name": "python3"
  },
  "language_info": {
   "codemirror_mode": {
    "name": "ipython",
    "version": 3
   },
   "file_extension": ".py",
   "mimetype": "text/x-python",
   "name": "python",
   "nbconvert_exporter": "python",
   "pygments_lexer": "ipython3",
   "version": "3.13.2"
],
 "metadata": {},
 "nbformat": 4,
 "nbformat_minor": 5
}
